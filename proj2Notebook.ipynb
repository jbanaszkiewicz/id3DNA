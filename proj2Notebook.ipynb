{
 "cells": [
  {
   "cell_type": "markdown",
   "metadata": {},
   "source": [
    "# Libraries"
   ]
  },
  {
   "cell_type": "code",
   "execution_count": 23,
   "metadata": {},
   "outputs": [],
   "source": [
    "import numpy as np\n",
    "import pandas as pd\n",
    "import operator\n",
    "from copy import deepcopy\n",
    "from math import log"
   ]
  },
  {
   "cell_type": "markdown",
   "metadata": {},
   "source": [
    "# Load Data"
   ]
  },
  {
   "cell_type": "code",
   "execution_count": 24,
   "metadata": {},
   "outputs": [],
   "source": [
    "filepath = './data/spliceATrainKIS.dat'\n",
    "data = []"
   ]
  },
  {
   "cell_type": "code",
   "execution_count": 25,
   "metadata": {},
   "outputs": [],
   "source": [
    "with open(filepath) as fp:\n",
    "    line = fp.readline()\n",
    "    cnt = 1\n",
    "    while line:\n",
    "        data.append(line.strip())\n",
    "        line = fp.readline()\n",
    "        cnt += 1"
   ]
  },
  {
   "cell_type": "code",
   "execution_count": 26,
   "metadata": {},
   "outputs": [],
   "source": [
    "cutNr = int(data[0])"
   ]
  },
  {
   "cell_type": "code",
   "execution_count": 27,
   "metadata": {},
   "outputs": [
    {
     "data": {
      "text/plain": [
       "68"
      ]
     },
     "execution_count": 27,
     "metadata": {},
     "output_type": "execute_result"
    }
   ],
   "source": [
    "cutNr"
   ]
  },
  {
   "cell_type": "code",
   "execution_count": 28,
   "metadata": {},
   "outputs": [],
   "source": [
    "data = data[1:]"
   ]
  },
  {
   "cell_type": "code",
   "execution_count": 29,
   "metadata": {},
   "outputs": [],
   "source": [
    "data = np.reshape(a=data, newshape=(int(11576/2), 2))"
   ]
  },
  {
   "cell_type": "code",
   "execution_count": 30,
   "metadata": {},
   "outputs": [],
   "source": [
    "df = pd.DataFrame(data, columns=['y', \"seq\"])"
   ]
  },
  {
   "cell_type": "code",
   "execution_count": 31,
   "metadata": {},
   "outputs": [],
   "source": [
    "df.y = pd.to_numeric(df.y)\n",
    "classes = list(df.y)"
   ]
  },
  {
   "cell_type": "code",
   "execution_count": 32,
   "metadata": {},
   "outputs": [],
   "source": [
    "attributes = set(\"\".join([i for i in df.seq]))"
   ]
  },
  {
   "cell_type": "code",
   "execution_count": 33,
   "metadata": {},
   "outputs": [],
   "source": [
    "sequences = np.array([list(i) for i in df.seq])"
   ]
  },
  {
   "cell_type": "code",
   "execution_count": 34,
   "metadata": {},
   "outputs": [
    {
     "data": {
      "text/plain": [
       "{'A', 'C', 'G', 'N', 'S', 'T'}"
      ]
     },
     "execution_count": 34,
     "metadata": {},
     "output_type": "execute_result"
    }
   ],
   "source": [
    "attributes\n"
   ]
  },
  {
   "cell_type": "markdown",
   "metadata": {},
   "source": [
    "# Filotrowanie N i S"
   ]
  },
  {
   "cell_type": "code",
   "execution_count": 35,
   "metadata": {},
   "outputs": [],
   "source": [
    "def filterLetter(data, sequences):\n",
    "    dataTemporal = deepcopy(data)\n",
    "    idxsN = [idx   for  idx, sequence in enumerate(sequences) if np.where(sequence=='N')[0].size]\n",
    "    idxsS = [idx   for  idx, sequence in enumerate(sequences) if np.where(sequence=='S')[0].size]\n",
    "    indices = np.concatenate((idxsN, idxsS))\n",
    "    for i in sorted(np.unique(indices), reverse=True):\n",
    "        del dataTemporal[i]\n",
    "#     np.save('test.npy', data)\n",
    "    print(len(dataTemporal))\n",
    "    return dataTemporal\n",
    "# data2 = np.load('test.npy')"
   ]
  },
  {
   "cell_type": "code",
   "execution_count": 37,
   "metadata": {},
   "outputs": [
    {
     "name": "stdout",
     "output_type": "stream",
     "text": [
      "5768\n"
     ]
    }
   ],
   "source": [
    "dataF = filterLetter(list(data), sequences)\n",
    "dfF = pd.DataFrame(dataF, columns=['y', \"seq\"])\n",
    "dfF.y = pd.to_numeric(dfF.y)\n",
    "classesF = list(dfF.y)\n",
    "attributesF = set(\"\".join([i for i in dfF.seq]))\n",
    "sequencesF = np.array([list(i) for i in dfF.seq])"
   ]
  },
  {
   "cell_type": "code",
   "execution_count": 38,
   "metadata": {},
   "outputs": [],
   "source": [
    "data = dataF\n",
    "df = dfF\n",
    "classes = classesF\n",
    "attributes = attributesF\n",
    "sequences = sequencesF"
   ]
  },
  {
   "cell_type": "code",
   "execution_count": 39,
   "metadata": {},
   "outputs": [
    {
     "data": {
      "text/plain": [
       "{'A', 'C', 'G', 'T'}"
      ]
     },
     "execution_count": 39,
     "metadata": {},
     "output_type": "execute_result"
    }
   ],
   "source": [
    "attributes"
   ]
  },
  {
   "cell_type": "markdown",
   "metadata": {},
   "source": [
    "# Algorytm "
   ]
  },
  {
   "cell_type": "markdown",
   "metadata": {},
   "source": [
    "zbiór klas 'c'- czy jest prawdziwy czy nie (1 & 0)\n",
    "\n",
    "zbiór obiektów 's' - zbiór kolejnych przykładów\n",
    "\n",
    "zbiór atrybutów poza klasą 'r'- zbiór unikalnych liter"
   ]
  },
  {
   "cell_type": "markdown",
   "metadata": {},
   "source": [
    "## częstość i-tej klasy"
   ]
  },
  {
   "cell_type": "code",
   "execution_count": 40,
   "metadata": {},
   "outputs": [],
   "source": [
    "p = [{c: 0 for c in attributes} for i in range(sequences.shape[1])]\n",
    "n = deepcopy(p)\n",
    "pAn = deepcopy(p)\n",
    "for ridx, row in enumerate(sequences):\n",
    "    for cidx, column in enumerate(row):\n",
    "        pAn[cidx][column] += 1\n",
    "        if df.y[ridx] == 1:\n",
    "            p[cidx][column] += 1\n",
    "        else:\n",
    "            n[cidx][column] += 1\n",
    "        "
   ]
  },
  {
   "cell_type": "markdown",
   "metadata": {},
   "source": [
    "mam zliczoną ilość wystąpień klejnych klas w danych numerach algorytmu"
   ]
  },
  {
   "cell_type": "code",
   "execution_count": 41,
   "metadata": {
    "scrolled": true
   },
   "outputs": [
    {
     "data": {
      "text/plain": [
       "[{'G': 307, 'T': 290, 'A': 261, 'C': 252},\n",
       " {'G': 317, 'T': 263, 'A': 265, 'C': 265},\n",
       " {'G': 291, 'T': 281, 'A': 254, 'C': 284},\n",
       " {'G': 336, 'T': 266, 'A': 259, 'C': 249},\n",
       " {'G': 310, 'T': 258, 'A': 255, 'C': 287}]"
      ]
     },
     "execution_count": 41,
     "metadata": {},
     "output_type": "execute_result"
    }
   ],
   "source": [
    "p[:5]"
   ]
  },
  {
   "cell_type": "code",
   "execution_count": 42,
   "metadata": {},
   "outputs": [
    {
     "data": {
      "text/plain": [
       "[{'G': 1355, 'T': 1141, 'A': 1005, 'C': 1157},\n",
       " {'G': 1291, 'T': 1185, 'A': 1050, 'C': 1132},\n",
       " {'G': 1267, 'T': 1176, 'A': 1037, 'C': 1178},\n",
       " {'G': 1252, 'T': 1192, 'A': 1036, 'C': 1178},\n",
       " {'G': 1273, 'T': 1181, 'A': 1045, 'C': 1159}]"
      ]
     },
     "execution_count": 42,
     "metadata": {},
     "output_type": "execute_result"
    }
   ],
   "source": [
    "n[:5]"
   ]
  },
  {
   "cell_type": "code",
   "execution_count": 43,
   "metadata": {},
   "outputs": [
    {
     "data": {
      "text/plain": [
       "[{'G': 1662, 'T': 1431, 'A': 1266, 'C': 1409},\n",
       " {'G': 1608, 'T': 1448, 'A': 1315, 'C': 1397},\n",
       " {'G': 1558, 'T': 1457, 'A': 1291, 'C': 1462},\n",
       " {'G': 1588, 'T': 1458, 'A': 1295, 'C': 1427},\n",
       " {'G': 1583, 'T': 1439, 'A': 1300, 'C': 1446}]"
      ]
     },
     "execution_count": 43,
     "metadata": {},
     "output_type": "execute_result"
    }
   ],
   "source": [
    "pAn[:5]"
   ]
  },
  {
   "cell_type": "code",
   "execution_count": 19,
   "metadata": {},
   "outputs": [],
   "source": [
    "def id3(classes, attributes, sequences):\n",
    "    \"\"\"\n",
    "    c- list of classes\n",
    "    r- list of atributes\n",
    "    s- list of objects\n",
    "    \"\"\"\n",
    "    if not sequences:\n",
    "        return -1\n",
    "    if classes.count(classes[0]) == len(x):\n",
    "        return classes[0]\n",
    "    if not attributes:\n",
    "        stats = {label: list(classes).count(label)  for label in np.unique(classes)}\n",
    "        max(stats.items(), key=operator.itemgetter(1))[0]\n",
    "    #atrybut maksymalizujący InfGain(D, S)\n",
    "    d = 0"
   ]
  },
  {
   "cell_type": "markdown",
   "metadata": {},
   "source": [
    "## atrybut maksimalizujący infGain"
   ]
  },
  {
   "cell_type": "markdown",
   "metadata": {},
   "source": [
    "### entropia zbioru"
   ]
  },
  {
   "cell_type": "code",
   "execution_count": 44,
   "metadata": {},
   "outputs": [],
   "source": [
    "def calculate_frequency(pAn):\n",
    "    \"\"\"\n",
    "    p = list of dictionaries caunting positive\n",
    "    n - list of dictionaries counting negative\n",
    "    y - output (0, 1)\n",
    "    \"\"\"\n",
    "    totalInRow = [sum(row.values()) for row in pAn]\n",
    "    frequencies = deepcopy(pAn)\n",
    "    for row, rowSum in zip(frequencies, totalInRow):\n",
    "        for key in row:\n",
    "            row[key] = row[key]/rowSum\n",
    "    return frequencies\n",
    "frequencies = calculate_frequency(pAn)"
   ]
  },
  {
   "cell_type": "code",
   "execution_count": 45,
   "metadata": {},
   "outputs": [],
   "source": [
    "def calculate_entropyLabel(labels):\n",
    "    p = 0\n",
    "    n = 0\n",
    "    for ridx, row in enumerate(labels):\n",
    "        if row == 1:\n",
    "            p += 1\n",
    "        else:\n",
    "            n += 1\n",
    "    pf = p/len(labels)\n",
    "    nf = n/len(labels)\n",
    "    entropy = -pf*log(pf, 2)-nf*log(nf, 2)\n",
    "    return entropy"
   ]
  },
  {
   "cell_type": "code",
   "execution_count": 46,
   "metadata": {},
   "outputs": [],
   "source": [
    "entropyL = calculate_entropyLabel(classes)"
   ]
  },
  {
   "cell_type": "markdown",
   "metadata": {},
   "source": [
    "policzyc entropy dla outlook z przykładu zeby sprawdzic dzialanie"
   ]
  },
  {
   "cell_type": "code",
   "execution_count": 47,
   "metadata": {},
   "outputs": [],
   "source": [
    "def singleEntropy(f, nrF):\n",
    "    \"\"\"\n",
    "    Funkcja liczy entropie dla pojedynczego podzbioru cechy\n",
    "    \"\"\"\n",
    "    return -f*log(f, nrF)\n",
    "def entropy(e1, e2, *rest):\n",
    "    \"\"\"\n",
    "    liczy entropie dla cechy\n",
    "    \"\"\"\n",
    "    args = np.concatenate(([e1, e2], rest)).astype(float) \n",
    "    fs = [arg/sum(args) for arg in args]\n",
    "    return sum([singleEntropy(f, len(fs)) for f in fs])\n",
    "    "
   ]
  },
  {
   "cell_type": "code",
   "execution_count": 49,
   "metadata": {},
   "outputs": [],
   "source": [
    "def informationGain(class1, class2, feature):\n",
    "    #licze entropie E(S)\n",
    "    es = entropy(class1, class2)\n",
    "#     if not rest:\n",
    "#         eArgsP = np.array([e1pair, e2pair]).astype(float)\n",
    "#     else:\n",
    "#         eArgsP = np.concatenate(([e1pair, e2pair], rest)).astype(float)\n",
    "    eArgsP = np.array(feature).astype(float)\n",
    "    # sumuje pozytywne i negatywne w eArgs\n",
    "    eArgs = [sum(e) for e in eArgsP]\n",
    "    #licze czestotliwosci \n",
    "    fs = [arg/sum(eArgs) for arg in eArgs]\n",
    "    fsAtributes = [[value/sum(attribute) for value in attribute] for attribute in eArgsP]\n",
    "    #licze entropie dla calosci\n",
    "    entropies = [entropy(value[0], value[1]) for value in fsAtributes]\n",
    "    return es-sum([entropy*f for f, entropy in zip(fs, entropies)])"
   ]
  },
  {
   "cell_type": "code",
   "execution_count": 53,
   "metadata": {},
   "outputs": [
    {
     "name": "stdout",
     "output_type": "stream",
     "text": [
      "5768   1110   4658\n",
      "90   90\n"
     ]
    }
   ],
   "source": [
    "#licze liczebnosc klas dobre/zle (target)\n",
    "class1 = classes.count(1)\n",
    "class2 = classes.count(0)\n",
    "print(len(classes), \" \", (class1), \" \", (class2))\n",
    "print(len(p), \" \", len(n))"
   ]
  },
  {
   "cell_type": "code",
   "execution_count": 54,
   "metadata": {
    "collapsed": true
   },
   "outputs": [
    {
     "name": "stdout",
     "output_type": "stream",
     "text": [
      "[(307, 1355), (290, 1141), (261, 1005), (252, 1157)]\n",
      "\n",
      "[(317, 1291), (263, 1185), (265, 1050), (265, 1132)]\n",
      "\n",
      "[(291, 1267), (281, 1176), (254, 1037), (284, 1178)]\n",
      "\n",
      "[(336, 1252), (266, 1192), (259, 1036), (249, 1178)]\n",
      "\n",
      "[(310, 1273), (258, 1181), (255, 1045), (287, 1159)]\n",
      "\n",
      "[(321, 1289), (280, 1173), (258, 1050), (251, 1146)]\n",
      "\n",
      "[(301, 1247), (319, 1205), (260, 1049), (230, 1157)]\n",
      "\n",
      "[(336, 1227), (263, 1181), (273, 1064), (238, 1186)]\n",
      "\n",
      "[(343, 1222), (269, 1206), (262, 993), (236, 1237)]\n",
      "\n",
      "[(329, 1223), (277, 1180), (256, 1069), (248, 1186)]\n",
      "\n",
      "[(314, 1179), (264, 1293), (261, 1019), (271, 1167)]\n",
      "\n",
      "[(302, 1219), (264, 1182), (276, 1062), (268, 1195)]\n",
      "\n",
      "[(358, 1191), (275, 1225), (241, 1024), (236, 1218)]\n",
      "\n",
      "[(328, 1144), (257, 1294), (266, 999), (259, 1221)]\n",
      "\n",
      "[(335, 1191), (259, 1265), (261, 1006), (255, 1196)]\n",
      "\n",
      "[(343, 1130), (292, 1230), (256, 1026), (219, 1272)]\n",
      "\n",
      "[(319, 1080), (271, 1328), (250, 979), (270, 1271)]\n",
      "\n",
      "[(295, 1114), (285, 1317), (243, 943), (287, 1284)]\n",
      "\n",
      "[(302, 1117), (304, 1314), (255, 960), (249, 1267)]\n",
      "\n",
      "[(326, 1104), (277, 1353), (258, 969), (249, 1232)]\n",
      "\n",
      "[(337, 1080), (271, 1329), (244, 944), (258, 1305)]\n",
      "\n",
      "[(342, 1046), (266, 1406), (224, 925), (278, 1281)]\n",
      "\n",
      "[(298, 1062), (288, 1423), (266, 879), (258, 1294)]\n",
      "\n",
      "[(300, 1068), (296, 1333), (226, 957), (288, 1300)]\n",
      "\n",
      "[(285, 1042), (297, 1364), (232, 927), (296, 1325)]\n",
      "\n",
      "[(298, 953), (283, 1446), (241, 898), (288, 1361)]\n",
      "\n",
      "[(289, 1007), (317, 1385), (246, 913), (258, 1353)]\n",
      "\n",
      "[(316, 955), (290, 1447), (228, 864), (276, 1392)]\n",
      "\n",
      "[(298, 941), (287, 1411), (257, 879), (268, 1427)]\n",
      "\n",
      "[(263, 955), (293, 1416), (242, 922), (312, 1365)]\n",
      "\n",
      "[(299, 1020), (306, 1382), (250, 912), (255, 1344)]\n",
      "\n",
      "[(291, 1012), (290, 1388), (246, 934), (283, 1324)]\n",
      "\n",
      "[(265, 1037), (320, 1375), (237, 944), (288, 1302)]\n",
      "\n",
      "[(284, 1015), (302, 1378), (223, 907), (301, 1358)]\n",
      "\n",
      "[(274, 1055), (298, 1361), (250, 898), (288, 1344)]\n",
      "\n",
      "[(237, 975), (278, 1374), (274, 968), (321, 1341)]\n",
      "\n",
      "[(248, 1067), (314, 1381), (237, 897), (311, 1313)]\n",
      "\n",
      "[(257, 1057), (309, 1314), (231, 906), (313, 1381)]\n",
      "\n",
      "[(245, 1029), (334, 1416), (227, 943), (304, 1270)]\n",
      "\n",
      "[(230, 1055), (309, 1334), (245, 928), (326, 1341)]\n",
      "\n",
      "[(243, 1037), (307, 1340), (248, 958), (312, 1323)]\n",
      "\n",
      "[(208, 1019), (317, 1341), (248, 948), (337, 1350)]\n",
      "\n",
      "[(199, 1113), (322, 1298), (262, 928), (327, 1319)]\n",
      "\n",
      "[(189, 1090), (330, 1310), (247, 896), (344, 1362)]\n",
      "\n",
      "[(219, 1069), (315, 1405), (245, 969), (331, 1215)]\n",
      "\n",
      "[(173, 1153), (348, 1249), (264, 905), (325, 1351)]\n",
      "\n",
      "[(178, 1110), (379, 1290), (229, 973), (324, 1285)]\n",
      "\n",
      "[(188, 1037), (340, 1324), (252, 1033), (330, 1264)]\n",
      "\n",
      "[(181, 1234), (358, 1227), (231, 933), (340, 1264)]\n",
      "\n",
      "[(171, 1172), (342, 1252), (240, 987), (357, 1247)]\n",
      "\n",
      "[(172, 1090), (391, 1306), (222, 1042), (325, 1220)]\n",
      "\n",
      "[(192, 1227), (391, 1187), (174, 922), (353, 1322)]\n",
      "\n",
      "[(178, 1200), (403, 1200), (177, 1042), (352, 1216)]\n",
      "\n",
      "[(185, 1093), (404, 1228), (152, 1064), (369, 1273)]\n",
      "\n",
      "[(135, 1266), (420, 1099), (167, 978), (388, 1315)]\n",
      "\n",
      "[(137, 1215), (450, 1104), (136, 1093), (387, 1246)]\n",
      "\n",
      "[(130, 1111), (488, 1196), (111, 1146), (381, 1205)]\n",
      "\n",
      "[(135, 1369), (520, 1080), (100, 982), (355, 1227)]\n",
      "\n",
      "[(118, 1308), (522, 1054), (94, 1089), (376, 1207)]\n",
      "\n",
      "[(128, 1151), (547, 1123), (92, 1200), (343, 1184)]\n",
      "\n",
      "[(119, 1349), (528, 1022), (80, 1054), (383, 1233)]\n",
      "\n",
      "[(117, 1256), (480, 1020), (93, 1213), (420, 1169)]\n",
      "\n",
      "[(125, 1201), (441, 1090), (93, 1259), (451, 1108)]\n",
      "\n",
      "[(99, 1377), (473, 1035), (92, 1049), (446, 1197)]\n",
      "\n",
      "[(65, 1314), (511, 1021), (66, 1159), (468, 1164)]\n",
      "\n",
      "[(68, 1095), (557, 1066), (81, 1268), (404, 1229)]\n",
      "\n",
      "[(243, 1489), (252, 951), (252, 1083), (363, 1135)]\n",
      "\n",
      "[(1, 1430), (254, 323), (54, 1313), (801, 1592)]\n",
      "\n",
      "[(0, 0), (0, 0), (1110, 4658), (0, 0)]\n",
      "\n",
      "[(1110, 4658), (0, 0), (0, 0), (0, 0)]\n",
      "\n",
      "[(583, 1196), (110, 880), (268, 1303), (149, 1279)]\n",
      "\n",
      "[(241, 1018), (359, 1042), (274, 1365), (236, 1233)]\n",
      "\n",
      "[(261, 1311), (259, 1006), (293, 1075), (297, 1266)]\n",
      "\n",
      "[(253, 1102), (283, 1070), (267, 1208), (307, 1278)]\n",
      "\n",
      "[(264, 1062), (268, 1222), (272, 1178), (306, 1196)]\n",
      "\n",
      "[(292, 1307), (251, 1061), (260, 1030), (307, 1260)]\n",
      "\n",
      "[(299, 1195), (261, 1116), (283, 1137), (267, 1210)]\n",
      "\n",
      "[(296, 1058), (255, 1195), (275, 1158), (284, 1247)]\n",
      "\n",
      "[(300, 1310), (254, 1093), (260, 972), (296, 1283)]\n",
      "\n",
      "[(300, 1114), (244, 1118), (288, 1172), (278, 1254)]\n",
      "\n",
      "[(294, 1007), (259, 1234), (291, 1196), (266, 1221)]\n",
      "\n",
      "[(332, 1261), (248, 1051), (268, 978), (262, 1368)]\n",
      "\n",
      "[(305, 1141), (227, 1192), (280, 1104), (298, 1221)]\n",
      "\n",
      "[(281, 986), (266, 1251), (283, 1145), (280, 1276)]\n",
      "\n",
      "[(289, 1234), (221, 1117), (309, 995), (291, 1312)]\n",
      "\n",
      "[(294, 1118), (226, 1140), (289, 1077), (301, 1323)]\n",
      "\n",
      "[(286, 1025), (240, 1259), (310, 1118), (274, 1256)]\n",
      "\n",
      "[(358, 1283), (218, 1103), (271, 914), (263, 1358)]\n",
      "\n",
      "[(286, 1075), (232, 1177), (291, 1135), (301, 1271)]\n",
      "\n",
      "[(282, 1031), (235, 1306), (293, 1140), (300, 1181)]\n",
      "\n"
     ]
    }
   ],
   "source": [
    "#biore pary pobry/zly z poszczególnych cech i ich mozliwych opcji\n",
    "ePairs = []\n",
    "keys = p[0].keys()\n",
    "for featureP, featureN in zip(p, n):\n",
    "    ePair = [(featureP[key], featureN[key]) for key in keys]\n",
    "    ePairs.append(ePair)\n",
    "    print(ePair)\n",
    "    print()"
   ]
  },
  {
   "cell_type": "code",
   "execution_count": 58,
   "metadata": {},
   "outputs": [
    {
     "data": {
      "text/plain": [
       "[(1110, 4658), (0, 0), (0, 0), (0, 0)]"
      ]
     },
     "execution_count": 58,
     "metadata": {},
     "output_type": "execute_result"
    }
   ],
   "source": [
    "ePairs[69]"
   ]
  },
  {
   "cell_type": "code",
   "execution_count": 59,
   "metadata": {
    "scrolled": true
   },
   "outputs": [
    {
     "name": "stderr",
     "output_type": "stream",
     "text": [
      "/home/jakubb/PW/sem8/pszt/.venv/lib/python3.6/site-packages/ipykernel_launcher.py:13: RuntimeWarning: invalid value encountered in double_scalars\n",
      "  del sys.path[0]\n"
     ]
    }
   ],
   "source": [
    "informationGainResults = [informationGain(class1, class2, pair) for pair in ePairs  ]"
   ]
  },
  {
   "cell_type": "code",
   "execution_count": 60,
   "metadata": {},
   "outputs": [],
   "source": [
    "informationGainR = np.nan_to_num(informationGainResults)"
   ]
  },
  {
   "cell_type": "code",
   "execution_count": 69,
   "metadata": {},
   "outputs": [
    {
     "name": "stdout",
     "output_type": "stream",
     "text": [
      "(array([67]),)\n"
     ]
    },
    {
     "data": {
      "text/plain": [
       "0.16704801144108694"
      ]
     },
     "execution_count": 69,
     "metadata": {},
     "output_type": "execute_result"
    }
   ],
   "source": [
    "result = np.where(informationGainR == np.amax(informationGainR))\n",
    "print(result)\n",
    "np.amax(informationGainR)\n"
   ]
  },
  {
   "cell_type": "markdown",
   "metadata": {},
   "source": [
    "# Wyjasnienie dzialania entropii"
   ]
  },
  {
   "cell_type": "code",
   "execution_count": 21,
   "metadata": {},
   "outputs": [],
   "source": [
    "import numpy as np\n",
    "from math import log\n",
    "import matplotlib.pyplot as plt\n",
    "zakres = np.linspace(0,1).astype(float)\n",
    "zakres[0] = 0.0000001"
   ]
  },
  {
   "cell_type": "code",
   "execution_count": 23,
   "metadata": {},
   "outputs": [],
   "source": [
    "y = [i*log(i, 2) for i in zakres]"
   ]
  },
  {
   "cell_type": "code",
   "execution_count": 24,
   "metadata": {},
   "outputs": [
    {
     "data": {
      "text/plain": [
       "[<matplotlib.lines.Line2D at 0x29f75ece4e0>]"
      ]
     },
     "execution_count": 24,
     "metadata": {},
     "output_type": "execute_result"
    },
    {
     "data": {
      "image/png": "[encoded data removed]",
      "text/plain": [
       "<Figure size 432x288 with 1 Axes>"
      ]
     },
     "metadata": {
      "needs_background": "light"
     },
     "output_type": "display_data"
    }
   ],
   "source": [
    "plt.plot(zakres, y)"
   ]
  },
  {
   "cell_type": "code",
   "execution_count": null,
   "metadata": {},
   "outputs": [],
   "source": []
  }
 ],
 "metadata": {
  "kernelspec": {
   "display_name": "Python 3",
   "language": "python",
   "name": "python3"
  },
  "language_info": {
   "codemirror_mode": {
    "name": "ipython",
    "version": 3
   },
   "file_extension": ".py",
   "mimetype": "text/x-python",
   "name": "python",
   "nbconvert_exporter": "python",
   "pygments_lexer": "ipython3",
   "version": "3.6.9"
  }
 },
 "nbformat": 4,
 "nbformat_minor": 2
}

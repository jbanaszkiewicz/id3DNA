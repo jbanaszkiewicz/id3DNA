{
 "cells": [
  {
   "cell_type": "markdown",
   "metadata": {},
   "source": [
    "# Libraries"
   ]
  },
  {
   "cell_type": "code",
   "execution_count": 39,
   "metadata": {},
   "outputs": [],
   "source": [
    "import numpy as np\n",
    "import pandas as pd\n",
    "import operator\n",
    "from copy import deepcopy\n",
    "from math import log\n",
    "from anytree import Node, RenderTree"
   ]
  },
  {
   "cell_type": "markdown",
   "metadata": {},
   "source": [
    "# Load Data"
   ]
  },
  {
   "cell_type": "code",
   "execution_count": 2,
   "metadata": {},
   "outputs": [],
   "source": [
    "filepath = './data/spliceATrainKIS.dat'\n",
    "data = []"
   ]
  },
  {
   "cell_type": "code",
   "execution_count": 3,
   "metadata": {},
   "outputs": [],
   "source": [
    "with open(filepath) as fp:\n",
    "    line = fp.readline()\n",
    "    cnt = 1\n",
    "    while line:\n",
    "        data.append(line.strip())\n",
    "        line = fp.readline()\n",
    "        cnt += 1"
   ]
  },
  {
   "cell_type": "code",
   "execution_count": 4,
   "metadata": {},
   "outputs": [],
   "source": [
    "cutNr = int(data[0])"
   ]
  },
  {
   "cell_type": "code",
   "execution_count": 5,
   "metadata": {},
   "outputs": [
    {
     "data": {
      "text/plain": [
       "68"
      ]
     },
     "execution_count": 5,
     "metadata": {},
     "output_type": "execute_result"
    }
   ],
   "source": [
    "cutNr"
   ]
  },
  {
   "cell_type": "code",
   "execution_count": 6,
   "metadata": {},
   "outputs": [],
   "source": [
    "data = data[1:]"
   ]
  },
  {
   "cell_type": "code",
   "execution_count": 7,
   "metadata": {},
   "outputs": [],
   "source": [
    "data = np.reshape(a=data, newshape=(int(11576/2), 2))"
   ]
  },
  {
   "cell_type": "code",
   "execution_count": 8,
   "metadata": {},
   "outputs": [],
   "source": [
    "df = pd.DataFrame(data, columns=['y', \"seq\"])"
   ]
  },
  {
   "cell_type": "code",
   "execution_count": 9,
   "metadata": {},
   "outputs": [],
   "source": [
    "df.y = pd.to_numeric(df.y)\n",
    "classes = list(df.y)"
   ]
  },
  {
   "cell_type": "code",
   "execution_count": 10,
   "metadata": {},
   "outputs": [],
   "source": [
    "attributes = set(\"\".join([i for i in df.seq]))"
   ]
  },
  {
   "cell_type": "code",
   "execution_count": 11,
   "metadata": {},
   "outputs": [],
   "source": [
    "sequences = np.array([list(i) for i in df.seq])"
   ]
  },
  {
   "cell_type": "code",
   "execution_count": 12,
   "metadata": {},
   "outputs": [
    {
     "data": {
      "text/plain": [
       "{'A', 'C', 'G', 'N', 'S', 'T'}"
      ]
     },
     "execution_count": 12,
     "metadata": {},
     "output_type": "execute_result"
    }
   ],
   "source": [
    "attributes\n"
   ]
  },
  {
   "cell_type": "markdown",
   "metadata": {},
   "source": [
    "# Filotrowanie N i S"
   ]
  },
  {
   "cell_type": "code",
   "execution_count": 13,
   "metadata": {},
   "outputs": [],
   "source": [
    "def filterLetter(data, sequences):\n",
    "    dataTemporal = deepcopy(data)\n",
    "    idxsN = [idx   for  idx, sequence in enumerate(sequences) if np.where(sequence=='N')[0].size]\n",
    "    idxsS = [idx   for  idx, sequence in enumerate(sequences) if np.where(sequence=='S')[0].size]\n",
    "    indices = np.concatenate((idxsN, idxsS))\n",
    "    for i in sorted(np.unique(indices), reverse=True):\n",
    "        del dataTemporal[i]\n",
    "#     np.save('test.npy', data)\n",
    "    print(len(dataTemporal))\n",
    "    return dataTemporal\n",
    "# data2 = np.load('test.npy')"
   ]
  },
  {
   "cell_type": "code",
   "execution_count": 14,
   "metadata": {},
   "outputs": [
    {
     "name": "stdout",
     "output_type": "stream",
     "text": [
      "5768\n"
     ]
    }
   ],
   "source": [
    "dataF = filterLetter(list(data), sequences)\n",
    "dfF = pd.DataFrame(dataF, columns=['y', \"seq\"])\n",
    "dfF.y = pd.to_numeric(dfF.y)\n",
    "classesF = list(dfF.y)\n",
    "attributesF = set(\"\".join([i for i in dfF.seq]))\n",
    "sequencesF = np.array([list(i) for i in dfF.seq])"
   ]
  },
  {
   "cell_type": "code",
   "execution_count": 15,
   "metadata": {},
   "outputs": [],
   "source": [
    "data = dataF\n",
    "df = dfF\n",
    "classes = classesF\n",
    "attributes = attributesF\n",
    "sequences = sequencesF"
   ]
  },
  {
   "cell_type": "code",
   "execution_count": 16,
   "metadata": {},
   "outputs": [
    {
     "data": {
      "text/plain": [
       "{'A', 'C', 'G', 'T'}"
      ]
     },
     "execution_count": 16,
     "metadata": {},
     "output_type": "execute_result"
    }
   ],
   "source": [
    "attributes"
   ]
  },
  {
   "cell_type": "markdown",
   "metadata": {},
   "source": [
    "# Algorytm "
   ]
  },
  {
   "cell_type": "markdown",
   "metadata": {},
   "source": [
    "zbiór klas 'c'- czy jest prawdziwy czy nie (1 & 0)\n",
    "\n",
    "zbiór obiektów 's' - zbiór kolejnych przykładów\n",
    "\n",
    "zbiór atrybutów poza klasą 'r'- zbiór unikalnych liter"
   ]
  },
  {
   "cell_type": "markdown",
   "metadata": {},
   "source": [
    "## częstość i-tej klasy"
   ]
  },
  {
   "cell_type": "code",
   "execution_count": 33,
   "metadata": {},
   "outputs": [],
   "source": [
    "def countFrequencyClasses(sequences, attributes):\n",
    "    p = [{c: 0 for c in attributes} for i in range(sequences.shape[1])]\n",
    "    n = deepcopy(p)\n",
    "    pAn = deepcopy(p)\n",
    "    for ridx, row in enumerate(sequences):\n",
    "        for cidx, column in enumerate(row):\n",
    "            pAn[cidx][column] += 1\n",
    "            if df.y[ridx] == 1:\n",
    "                p[cidx][column] += 1\n",
    "            else:\n",
    "                n[cidx][column] += 1\n",
    "    return p, n, pAn"
   ]
  },
  {
   "cell_type": "markdown",
   "metadata": {},
   "source": [
    "mam zliczoną ilość wystąpień klejnych klas w danych numerach algorytmu"
   ]
  },
  {
   "cell_type": "markdown",
   "metadata": {},
   "source": [
    "## atrybut maksimalizujący infGain"
   ]
  },
  {
   "cell_type": "markdown",
   "metadata": {},
   "source": [
    "### entropia zbioru"
   ]
  },
  {
   "cell_type": "code",
   "execution_count": 35,
   "metadata": {},
   "outputs": [],
   "source": [
    "def calculate_frequency(pAn):\n",
    "    \"\"\"\n",
    "    p = list of dictionaries caunting positive\n",
    "    n - list of dictionaries counting negative\n",
    "    y - output (0, 1)\n",
    "    \"\"\"\n",
    "    totalInRow = [sum(row.values()) for row in pAn]\n",
    "    frequencies = deepcopy(pAn)\n",
    "    for row, rowSum in zip(frequencies, totalInRow):\n",
    "        for key in row:\n",
    "            row[key] = row[key]/rowSum\n",
    "    return frequencies"
   ]
  },
  {
   "cell_type": "code",
   "execution_count": 37,
   "metadata": {},
   "outputs": [],
   "source": [
    "def calculate_entropyLabel(labels):\n",
    "    p = 0\n",
    "    n = 0\n",
    "    for ridx, row in enumerate(labels):\n",
    "        if row == 1:\n",
    "            p += 1\n",
    "        else:\n",
    "            n += 1\n",
    "    pf = p/len(labels)\n",
    "    nf = n/len(labels)\n",
    "    entropy = -pf*log(pf, 2)-nf*log(nf, 2)\n",
    "    return entropy"
   ]
  },
  {
   "cell_type": "markdown",
   "metadata": {},
   "source": [
    "policzyc entropy dla outlook z przykładu zeby sprawdzic dzialanie"
   ]
  },
  {
   "cell_type": "code",
   "execution_count": 36,
   "metadata": {},
   "outputs": [],
   "source": [
    "def singleEntropy(f, nrF):\n",
    "    \"\"\"\n",
    "    Funkcja liczy entropie dla pojedynczego podzbioru cechy\n",
    "    \"\"\"\n",
    "    return -f*log(f, nrF)\n",
    "def entropy(e1, e2, *rest):\n",
    "    \"\"\"\n",
    "    liczy entropie dla cechy\n",
    "    \"\"\"\n",
    "    args = np.concatenate(([e1, e2], rest)).astype(float) \n",
    "    fs = [arg/sum(args) for arg in args]\n",
    "    return sum([singleEntropy(f, len(fs)) for f in fs])"
   ]
  },
  {
   "cell_type": "code",
   "execution_count": 26,
   "metadata": {},
   "outputs": [],
   "source": [
    "def informationGain(class1, class2, feature):\n",
    "    #licze entropie E(S)\n",
    "    es = entropy(class1, class2)\n",
    "#     if not rest:\n",
    "#         eArgsP = np.array([e1pair, e2pair]).astype(float)\n",
    "#     else:\n",
    "#         eArgsP = np.concatenate(([e1pair, e2pair], rest)).astype(float)\n",
    "    eArgsP = np.array(feature).astype(float)\n",
    "    # sumuje pozytywne i negatywne w eArgs\n",
    "    eArgs = [sum(e) for e in eArgsP]\n",
    "    #licze czestotliwosci \n",
    "    fs = [arg/sum(eArgs) for arg in eArgs]\n",
    "    fsAtributes = [[value/sum(attribute) for value in attribute] for attribute in eArgsP]\n",
    "    #licze entropie dla calosci\n",
    "    entropies = [entropy(value[0], value[1]) for value in fsAtributes]\n",
    "    return es-sum([entropy*f for f, entropy in zip(fs, entropies)])"
   ]
  },
  {
   "cell_type": "code",
   "execution_count": 38,
   "metadata": {},
   "outputs": [],
   "source": [
    "def getPairsPosNeg(p, n):\n",
    "    #biore pary pobry/zly z poszczególnych cech i ich mozliwych opcji\n",
    "    ePairs = []\n",
    "    keys = p[0].keys()\n",
    "    for featureP, featureN in zip(p, n):\n",
    "        ePair = [(featureP[key], featureN[key]) for key in keys]\n",
    "        ePairs.append(ePair)\n",
    "    return ePairs"
   ]
  },
  {
   "cell_type": "code",
   "execution_count": 21,
   "metadata": {},
   "outputs": [],
   "source": [
    "def id3(classes, attributes, sequences):\n",
    "    \"\"\"\n",
    "    c- list of classes\n",
    "    r- list of atributes\n",
    "    s- list of objects\n",
    "    \"\"\"\n",
    "#     if not sequences:\n",
    "#         return -1\n",
    "#     if classes.count(classes[0]) == len(x):\n",
    "#         return classes[0]\n",
    "#     if not attributes:\n",
    "#         stats = {label: list(classes).count(label)  for label in np.unique(classes)}\n",
    "#         max(stats.items(), key=operator.itemgetter(1))[0]\n",
    "    #atrybut maksymalizujący InfGain(D, S)\n",
    "    p, n, pAn = countFrequencyClasses(sequences, attributes)\n",
    "    frequencies = calculate_frequency(pAn)\n",
    "    entropyL = calculate_entropyLabel(classes)\n",
    "    #licze liczebnosc klas dobre/zle (target)\n",
    "    class1 = classes.count(1)\n",
    "    class2 = classes.count(0)\n",
    "    ePairs = getPairsPosNeg(p, n)\n",
    "    infGains = [informationGain(class1, class2, pair) for pair in ePairs  ]\n",
    "    #NaN wrzucają się tam, gdzie danej litery nie ma. Trzeba to potem jakos lepiej ogarnac\n",
    "    informationGainR = np.nan_to_num(informationGainResults)\n",
    "    #znajdz atrybut (nukleodyt), ktory ma najwiekszy InformationGain\n",
    "    infGainLead = np.where(informationGainR == np.amax(informationGainR))\n",
    "    #stworz drzewo\n",
    "    s0 = Node(infGainLead)\n",
    "    #podziel dane wg s0 i znowu policz InformationGain"
   ]
  },
  {
   "cell_type": "code",
   "execution_count": 31,
   "metadata": {},
   "outputs": [],
   "source": []
  },
  {
   "cell_type": "code",
   "execution_count": 69,
   "metadata": {},
   "outputs": [
    {
     "name": "stdout",
     "output_type": "stream",
     "text": [
      "(array([67]),)\n"
     ]
    },
    {
     "data": {
      "text/plain": [
       "0.16704801144108694"
      ]
     },
     "execution_count": 69,
     "metadata": {},
     "output_type": "execute_result"
    }
   ],
   "source": [
    "result = np.where(informationGainR == np.amax(informationGainR))\n",
    "print(result)\n",
    "np.amax(informationGainR)\n"
   ]
  },
  {
   "cell_type": "markdown",
   "metadata": {},
   "source": [
    "# Wyjasnienie dzialania entropii"
   ]
  },
  {
   "cell_type": "code",
   "execution_count": 21,
   "metadata": {},
   "outputs": [],
   "source": [
    "import numpy as np\n",
    "from math import log\n",
    "import matplotlib.pyplot as plt\n",
    "zakres = np.linspace(0,1).astype(float)\n",
    "zakres[0] = 0.0000001"
   ]
  },
  {
   "cell_type": "code",
   "execution_count": 23,
   "metadata": {},
   "outputs": [],
   "source": [
    "y = [i*log(i, 2) for i in zakres]"
   ]
  },
  {
   "cell_type": "code",
   "execution_count": 24,
   "metadata": {},
   "outputs": [
    {
     "data": {
      "text/plain": [
       "[<matplotlib.lines.Line2D at 0x29f75ece4e0>]"
      ]
     },
     "execution_count": 24,
     "metadata": {},
     "output_type": "execute_result"
    },
    {
     "data": {
      "image/png": "[encoded data removed]",
      "text/plain": [
       "<Figure size 432x288 with 1 Axes>"
      ]
     },
     "metadata": {
      "needs_background": "light"
     },
     "output_type": "display_data"
    }
   ],
   "source": [
    "plt.plot(zakres, y)"
   ]
  },
  {
   "cell_type": "code",
   "execution_count": null,
   "metadata": {},
   "outputs": [],
   "source": []
  }
 ],
 "metadata": {
  "kernelspec": {
   "display_name": "Python 3",
   "language": "python",
   "name": "python3"
  },
  "language_info": {
   "codemirror_mode": {
    "name": "ipython",
    "version": 3
   },
   "file_extension": ".py",
   "mimetype": "text/x-python",
   "name": "python",
   "nbconvert_exporter": "python",
   "pygments_lexer": "ipython3",
   "version": "3.6.9"
  }
 },
 "nbformat": 4,
 "nbformat_minor": 2
}

{
 "cells": [
  {
   "cell_type": "markdown",
   "metadata": {},
   "source": [
    "# Libraries"
   ]
  },
  {
   "cell_type": "code",
   "execution_count": 8,
   "metadata": {},
   "outputs": [],
   "source": [
    "import numpy as np\n",
    "import pandas as pd\n",
    "import operator\n",
    "from copy import deepcopy\n",
    "from math import log"
   ]
  },
  {
   "cell_type": "markdown",
   "metadata": {},
   "source": [
    "# Load Data"
   ]
  },
  {
   "cell_type": "code",
   "execution_count": 9,
   "metadata": {},
   "outputs": [],
   "source": [
    "filepath = './data/spliceATrainKIS.dat'\n",
    "data = []"
   ]
  },
  {
   "cell_type": "code",
   "execution_count": 10,
   "metadata": {},
   "outputs": [],
   "source": [
    "with open(filepath) as fp:\n",
    "    line = fp.readline()\n",
    "    cnt = 1\n",
    "    while line:\n",
    "        data.append(line.strip())\n",
    "        line = fp.readline()\n",
    "        cnt += 1"
   ]
  },
  {
   "cell_type": "code",
   "execution_count": 11,
   "metadata": {},
   "outputs": [
    {
     "data": {
      "text/plain": [
       "(11577,)"
      ]
     },
     "execution_count": 11,
     "metadata": {},
     "output_type": "execute_result"
    }
   ],
   "source": [
    "np.shape(data)"
   ]
  },
  {
   "cell_type": "code",
   "execution_count": 12,
   "metadata": {},
   "outputs": [],
   "source": [
    "cutNr = int(data[0])"
   ]
  },
  {
   "cell_type": "code",
   "execution_count": 13,
   "metadata": {},
   "outputs": [
    {
     "data": {
      "text/plain": [
       "68"
      ]
     },
     "execution_count": 13,
     "metadata": {},
     "output_type": "execute_result"
    }
   ],
   "source": [
    "cutNr"
   ]
  },
  {
   "cell_type": "code",
   "execution_count": 14,
   "metadata": {},
   "outputs": [],
   "source": [
    "data = data[1:]"
   ]
  },
  {
   "cell_type": "code",
   "execution_count": 15,
   "metadata": {},
   "outputs": [],
   "source": [
    "data = np.array(data)"
   ]
  },
  {
   "cell_type": "code",
   "execution_count": 16,
   "metadata": {},
   "outputs": [],
   "source": [
    "data = np.reshape(a=data, newshape=(int(11576/2), 2))"
   ]
  },
  {
   "cell_type": "code",
   "execution_count": 17,
   "metadata": {},
   "outputs": [],
   "source": [
    "df = pd.DataFrame(data, columns=['y', \"seq\"])"
   ]
  },
  {
   "cell_type": "code",
   "execution_count": 18,
   "metadata": {},
   "outputs": [],
   "source": [
    "df.y = pd.to_numeric(df.y)\n",
    "classes = list(df.y)"
   ]
  },
  {
   "cell_type": "code",
   "execution_count": 19,
   "metadata": {},
   "outputs": [],
   "source": [
    "attributes = set(\"\".join([i for i in df.seq]))"
   ]
  },
  {
   "cell_type": "code",
   "execution_count": 20,
   "metadata": {},
   "outputs": [],
   "source": [
    "sequences = np.array([list(i) for i in df.seq])"
   ]
  },
  {
   "cell_type": "code",
   "execution_count": 21,
   "metadata": {},
   "outputs": [
    {
     "data": {
      "text/plain": [
       "{'A', 'C', 'G', 'N', 'S', 'T'}"
      ]
     },
     "execution_count": 21,
     "metadata": {},
     "output_type": "execute_result"
    }
   ],
   "source": [
    "attributes\n"
   ]
  },
  {
   "cell_type": "markdown",
   "metadata": {},
   "source": [
    "# Algorytm "
   ]
  },
  {
   "cell_type": "markdown",
   "metadata": {},
   "source": [
    "zbiór klas 'c'- czy jest prawdziwy czy nie (1 & 0)\n",
    "\n",
    "zbiór obiektów 's' - zbiór kolejnych przykładów\n",
    "\n",
    "zbiór atrybutów poza klasą 'r'- zbiór unikalnych liter"
   ]
  },
  {
   "cell_type": "markdown",
   "metadata": {},
   "source": [
    "## częstość i-tej klasy"
   ]
  },
  {
   "cell_type": "code",
   "execution_count": null,
   "metadata": {},
   "outputs": [],
   "source": [
    "#znalezc ceche, ktora ma najwieksza czestosc\n",
    "p = [{c: 0 for c in attributes} for i in range(sequences.shape[1])]\n",
    "n = deepcopy(p)\n",
    "pAn = deepcopy(p)\n",
    "for ridx, row in enumerate(sequences):\n",
    "    for cidx, column in enumerate(row):\n",
    "        pAn[cidx][column] += 1\n",
    "        if df.y[ridx] == 1:\n",
    "            p[cidx][column] += 1\n",
    "        else:\n",
    "            n[cidx][column] += 1\n",
    "        "
   ]
  },
  {
   "cell_type": "markdown",
   "metadata": {},
   "source": [
    "mam zliczoną ilość wystąpień klejnych klas w danych numerach algorytmu"
   ]
  },
  {
   "cell_type": "code",
   "execution_count": null,
   "metadata": {
    "scrolled": true
   },
   "outputs": [],
   "source": [
    "p[:5]"
   ]
  },
  {
   "cell_type": "code",
   "execution_count": null,
   "metadata": {},
   "outputs": [],
   "source": [
    "n[:5]"
   ]
  },
  {
   "cell_type": "code",
   "execution_count": null,
   "metadata": {},
   "outputs": [],
   "source": [
    "pAn[:5]"
   ]
  },
  {
   "cell_type": "code",
   "execution_count": null,
   "metadata": {},
   "outputs": [],
   "source": [
    "def id3(classes, attributes, sequences):\n",
    "    \"\"\"\n",
    "    c- list of classes\n",
    "    r- list of atributes\n",
    "    s- list of objects\n",
    "    \"\"\"\n",
    "    if not sequences:\n",
    "        return -1\n",
    "    if classes.count(classes[0]) == len(x):\n",
    "        return classes[0]\n",
    "    if not attributes:\n",
    "        stats = {label: list(classes).count(label)  for label in np.unique(classes)}\n",
    "        max(stats.items(), key=operator.itemgetter(1))[0]\n",
    "    #atrybut maksymalizujący InfGain(D, S)\n",
    "    d = 0"
   ]
  },
  {
   "cell_type": "markdown",
   "metadata": {},
   "source": [
    "## atrybut maksimalizujący infGain"
   ]
  },
  {
   "cell_type": "markdown",
   "metadata": {},
   "source": [
    "### entropia zbioru"
   ]
  },
  {
   "cell_type": "code",
   "execution_count": null,
   "metadata": {},
   "outputs": [],
   "source": [
    "testD = {'N': 1, 'T': 1143, 'S': 0, 'A': 1007, 'C': 1160, 'G': 1361}\n",
    "for i in testD:\n",
    "    print(i)"
   ]
  },
  {
   "cell_type": "code",
   "execution_count": null,
   "metadata": {},
   "outputs": [],
   "source": [
    "def calculate_frequency(pAn):\n",
    "    \"\"\"\n",
    "    p = list of dictionaries caunting positive\n",
    "    n - list of dictionaries counting negative\n",
    "    y - output (0, 1)\n",
    "    \"\"\"\n",
    "    totalInRow = [sum(row.values()) for row in pAn]\n",
    "    frequencies = deepcopy(pAn)\n",
    "    for row, rowSum in zip(frequencies, totalInRow):\n",
    "        for key in row:\n",
    "            row[key] = row[key]/rowSum\n",
    "    return frequencies\n",
    "frequencies = calculate_frequency(pAn)"
   ]
  },
  {
   "cell_type": "code",
   "execution_count": null,
   "metadata": {},
   "outputs": [],
   "source": [
    "def calculate_entropyLabel(labels):\n",
    "    p = 0\n",
    "    n = 0\n",
    "    for ridx, row in enumerate(labels):\n",
    "        if row == 1:\n",
    "            p += 1\n",
    "        else:\n",
    "            n += 1\n",
    "    pf = p/len(labels)\n",
    "    nf = n/len(labels)\n",
    "    entropy = -pf*log(pf, 2)-nf*log(nf, 2)\n",
    "    return entropy"
   ]
  },
  {
   "cell_type": "code",
   "execution_count": null,
   "metadata": {},
   "outputs": [],
   "source": [
    "entropyL = calculate_entropyLabel(classes)"
   ]
  },
  {
   "cell_type": "markdown",
   "metadata": {},
   "source": [
    "policzyc entropy dla outlook z przykładu zeby sprawdzic dzialanie"
   ]
  },
  {
   "cell_type": "code",
   "execution_count": null,
   "metadata": {},
   "outputs": [],
   "source": [
    "def singleEntropy(f, nrF):\n",
    "    return -f*log(f, nrF)\n",
    "def entropy(e1, e2, *rest):\n",
    "    args = np.concatenate(([e1, e2], rest)).astype(float) \n",
    "    fs = [arg/sum(args) for arg in args]\n",
    "    return sum([singleEntropy(f, len(fs)) for f in fs])\n",
    "    "
   ]
  },
  {
   "cell_type": "code",
   "execution_count": 57,
   "metadata": {},
   "outputs": [
    {
     "data": {
      "text/plain": [
       "1.0"
      ]
     },
     "execution_count": 57,
     "metadata": {},
     "output_type": "execute_result"
    }
   ],
   "source": [
    "entropy(3, 3)"
   ]
  },
  {
   "cell_type": "code",
   "execution_count": null,
   "metadata": {},
   "outputs": [],
   "source": [
    "def informationGain(eClasses, a0, a1, entropy0, entropy1):\n",
    "    f0 = a0/(a0+a1)\n",
    "    f1 = a1/(a0+a1)   \n",
    "    ig = eClasses - sum([f0*entropy0, f1*entropy1])\n",
    "    return ig"
   ]
  },
  {
   "cell_type": "code",
   "execution_count": null,
   "metadata": {},
   "outputs": [],
   "source": [
    "informationGain(0.94, 8,  6, eW, eS)"
   ]
  },
  {
   "cell_type": "code",
   "execution_count": null,
   "metadata": {},
   "outputs": [],
   "source": [
    "lista = [1, 2, 3, 4]\n",
    "[arg/ for idx, arg in enumerate(lista)]"
   ]
  },
  {
   "cell_type": "code",
   "execution_count": null,
   "metadata": {},
   "outputs": [],
   "source": []
  }
 ],
 "metadata": {
  "kernelspec": {
   "display_name": "Python 3",
   "language": "python",
   "name": "python3"
  },
  "language_info": {
   "codemirror_mode": {
    "name": "ipython",
    "version": 3
   },
   "file_extension": ".py",
   "mimetype": "text/x-python",
   "name": "python",
   "nbconvert_exporter": "python",
   "pygments_lexer": "ipython3",
   "version": "3.6.9"
  },
  "toc": {
   "base_numbering": 1,
   "nav_menu": {},
   "number_sections": true,
   "sideBar": true,
   "skip_h1_title": false,
   "title_cell": "Table of Contents",
   "title_sidebar": "Contents",
   "toc_cell": false,
   "toc_position": {},
   "toc_section_display": true,
   "toc_window_display": false
  }
 },
 "nbformat": 4,
 "nbformat_minor": 2
}
